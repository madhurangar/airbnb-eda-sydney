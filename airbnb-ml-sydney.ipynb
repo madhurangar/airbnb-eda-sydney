{
    "cells": [
        {
            "cell_type": "code",
            "execution_count": null,
            "source": [
                "import pandas as pd\n",
                "import numpy as np\n",
                "import matplotlib.pyplot as plt"
            ],
            "outputs": [],
            "metadata": {}
        },
        {
            "cell_type": "code",
            "execution_count": null,
            "source": [],
            "outputs": [],
            "metadata": {}
        }
    ],
    "metadata": {
        "orig_nbformat": 4,
        "language_info": {
            "name": "python",
            "version": "3.9.5"
        },
        "kernelspec": {
            "name": "python3",
            "display_name": "Python 3.9.5 64-bit ('base': conda)"
        },
        "interpreter": {
            "hash": "c33829a3f1a4c545b99a306b4cd0757a7160fe13758cd9945b02cad59656fc27"
        }
    },
    "nbformat": 4,
    "nbformat_minor": 2
}